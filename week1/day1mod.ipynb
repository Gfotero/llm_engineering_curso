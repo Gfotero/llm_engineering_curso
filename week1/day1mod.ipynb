{
 "cells": [
  {
   "cell_type": "markdown",
   "id": "d15d8294-3328-4e07-ad16-8a03e9bbfdb9",
   "metadata": {},
   "source": [
    "# Gratificación instantánea\n",
    "\n",
    "## ¡Tu primer proyecto de LLM de Frontier!\n",
    "\n",
    "Construyamos una solución LLM útil en cuestión de minutos.\n",
    "\n",
    "Al finalizar este curso, habrás creado una solución de IA autónoma de Agentic con 7 agentes que colaboran para resolver un problema comercial. ¡Todo a su debido tiempo! Comenzaremos con algo más pequeño...\n",
    "\n",
    "Nuestro objetivo es codificar un nuevo tipo de navegador web. Dale una URL y responderá con un resumen. ¡El Reader's Digest de Internet!\n",
    "\n",
    "Antes de comenzar, deberías haber completado la configuración para [PC](../SETUP-PC.md) o [Mac](../SETUP-mac.md) y, con suerte, habrás iniciado este laboratorio de Jupyter desde el directorio raíz del proyecto, con tu entorno activado.\n",
    "\n",
    "## Si eres nuevo en Jupyter Lab\n",
    "\n",
    "¡Bienvenido al maravilloso mundo de la experimentación en ciencia de datos! Una vez que hayas usado Jupyter Lab, te preguntarás cómo pudiste vivir sin él. Simplemente haga clic en cada \"celda\" que contenga código, como la celda inmediatamente debajo de este texto, y presione Shift+Return para ejecutar esa celda. Como desee, puede agregar una celda con el botón + en la barra de herramientas e imprimir valores de variables o probar variaciones.\n",
    "\n",
    "He escrito un cuaderno llamado [Guía para Jupyter](Guide%20to%20Jupyter.ipynb) para ayudarlo a familiarizarse más con Jupyter Labs, incluida la adición de comentarios de Markdown, el uso de `!` para ejecutar comandos de shell y `tqdm` para mostrar el progreso.\n",
    "\n",
    "Si prefiere trabajar en IDE como VSCode o Pycharm, ambos funcionan muy bien con estos cuadernos de laboratorio también.\n",
    "\n",
    "## Si desea repasar su Python\n",
    "\n",
    "He agregado un cuaderno llamado [Python intermedio](Intermediate%20Python.ipynb) para ayudarlo a ponerse al día. Pero no deberías probarlo si ya tienes una buena idea de lo que hace este código:\n",
    "`yield from {book.get(\"author\") for book in books if book.get(\"author\")}`\n",
    "\n",
    "## Estoy aquí para ayudarte\n",
    "\n",
    "Si tienes algún problema, no dudes en ponerte en contacto conmigo.\n",
    "Estoy disponible a través de la plataforma,o en https://www.linkedin.com/in/juan-gabriel-gomila-salas/ si quieres conectarte (¡y me encanta conectarme!).\n",
    "\n",
    "## Más resolución de problemas\n",
    "\n",
    "Consulta el cuaderno de [solución de problemas](troubleshooting.ipynb) en esta carpeta para diagnosticar y solucionar problemas comunes.\n",
    "\n",
    "## ¡Si esto ya es pan comido!\n",
    "\n",
    "Si ya te sientes cómodo con el material de hoy, no te desanimes; puedes avanzar rápidamente en los primeros laboratorios; profundizaremos mucho más a medida que avancen las semanas.\n",
    "\n",
    "## Valor comercial de estos ejercicios\n",
    "\n",
    "Una última reflexión. Aunque he diseñado estos cuadernos para que sean educativos, también he intentado que sean divertidos. Haremos cosas divertidas, como que los estudiantes de LLM cuenten chistes y discutan entre ellos. Pero, fundamentalmente, mi objetivo es enseñar habilidades que se puedan aplicar en los negocios. Explicaré las implicaciones comerciales a medida que avancemos y vale la pena tener esto en cuenta: a medida que adquiera experiencia con modelos y técnicas, piense en formas en las que podría poner esto en práctica en el trabajo hoy. Comuníquese conmigo si desea hablar más sobre esto o si tiene ideas para compartir conmigo."
   ]
  },
  {
   "cell_type": "code",
   "id": "4e2a9393-7767-488e-a8bf-27c12dca35bd",
   "metadata": {
    "ExecuteTime": {
     "end_time": "2025-07-18T00:14:03.905640Z",
     "start_time": "2025-07-18T00:14:03.902443Z"
    }
   },
   "source": [
    "# imports\n",
    "\n",
    "import os\n",
    "import requests\n",
    "from dotenv import load_dotenv\n",
    "from bs4 import BeautifulSoup\n",
    "from IPython.display import Markdown, display\n",
    "from openai import OpenAI\n",
    "\n",
    "# Si recibe un error al ejecutar esta celda, diríjase al cuaderno de solución de problemas (troubleshooting.ipynb)."
   ],
   "outputs": [],
   "execution_count": 13
  },
  {
   "cell_type": "markdown",
   "id": "6900b2a8-6384-4316-8aaa-5e519fca4254",
   "metadata": {},
   "source": [
    "# Conexión a OpenAI\n",
    "\n",
    "La siguiente celda es donde cargamos las variables de entorno en su archivo `.env` y nos conectamos a OpenAI.\n",
    "\n",
    "## Solución de problemas si tiene problemas:\n",
    "\n",
    "Vaya al cuaderno [solución de problemas](troubleshooting.ipynb) en esta carpeta para obtener el código paso a paso para identificar la causa raíz y solucionarlo.\n",
    "\n",
    "Si realiza un cambio, intente reiniciar el \"Kernel\" (el proceso de Python que se encuentra detrás de este cuaderno) mediante el menú Kernel >> Reiniciar Kernel y borrar los resultados de todas las celdas. Luego, intente con este cuaderno nuevamente, comenzando desde arriba.\n",
    "\n",
    "O bien, ¡contácteme! Envíeme un mensaje a través del foro del curso y haremos que esto funcione.\n",
    "\n",
    "¿Tiene alguna inquietud sobre los costos de la API? Vea mis notas en el README: los costos deberían ser mínimos y puede controlarlos en cada punto. También puede usar Ollama como una alternativa gratuita, que analizamos durante el día 2."
   ]
  },
  {
   "cell_type": "code",
   "id": "7b87cadb-d513-4303-baee-a37b6f938e4d",
   "metadata": {
    "ExecuteTime": {
     "end_time": "2025-07-18T00:14:07.525497Z",
     "start_time": "2025-07-18T00:14:07.518678Z"
    }
   },
   "source": [
    "# Cargamos las variables del fichero .env\n",
    "\n",
    "load_dotenv()\n",
    "api_key = os.getenv('OPENAI_API_KEY')\n",
    "\n",
    "# Check the key\n",
    "\n",
    "if not api_key:\n",
    "    print(\"No se encontró ninguna clave API: diríjase al cuaderno de resolución de problemas en esta carpeta para identificarla y solucionarla.\")\n",
    "elif not api_key.startswith(\"sk-proj-\"):\n",
    "    print(\"Se encontró una clave API, pero no inicia sk-proj-; verifique que esté usando la clave correcta; consulte el cuaderno de resolución de problemas\")\n",
    "elif api_key.strip() != api_key:\n",
    "    print(\"Se encontró una clave API, pero parece que puede tener espacios o caracteres de tabulación al principio o al final; elimínelos; consulte el cuaderno de resolución de problemas\")\n",
    "else:\n",
    "    print(\"¡Se encontró la clave API y hasta ahora parece buena!\")\n"
   ],
   "outputs": [
    {
     "name": "stdout",
     "output_type": "stream",
     "text": [
      "¡Se encontró la clave API y hasta ahora parece buena!\n"
     ]
    }
   ],
   "execution_count": 14
  },
  {
   "cell_type": "code",
   "id": "019974d9-f3ad-4a8a-b5f9-0a3719aea2d3",
   "metadata": {
    "ExecuteTime": {
     "end_time": "2025-07-18T00:14:10.282241Z",
     "start_time": "2025-07-18T00:14:10.267896Z"
    }
   },
   "source": [
    "openai = OpenAI()\n",
    "\n",
    "# Si esto no funciona, prueba con el menú Kernel >> Reiniciar Kernel y borrar las salidas de todas las celdas, luego ejecuta las celdas desde la parte superior de este cuaderno hacia abajo.\n",
    "# Si TODAVÍA no funciona (¡qué horror!), consulta el cuaderno de resolución de problemas o prueba la siguiente línea:\n",
    "# openai = OpenAI(api_key=\"your-key-here-starting-sk-proj-\")"
   ],
   "outputs": [],
   "execution_count": 15
  },
  {
   "cell_type": "code",
   "id": "c5e793b2-6775-426a-a139-4848291d0463",
   "metadata": {
    "ExecuteTime": {
     "end_time": "2025-07-18T00:14:12.649892Z",
     "start_time": "2025-07-18T00:14:12.646025Z"
    }
   },
   "source": [
    "# Una clase para representar una página web\n",
    "# Si no estás familiarizado con las clases, consulta el cuaderno \"Python intermedio\"\n",
    "\n",
    "class Website:\n",
    "    \"\"\"\n",
    "    Una clase de utilidad para representar un sitio web que hemos scrappeado\n",
    "    \"\"\"\n",
    "\n",
    "    def __init__(self, url):\n",
    "        \"\"\"\n",
    "        Crea este objeto de sitio web a partir de la URL indicada utilizando la biblioteca BeautifulSoup\n",
    "        \"\"\"\n",
    "        self.url = url\n",
    "        response = requests.get(url)\n",
    "        soup = BeautifulSoup(response.content, 'html.parser')\n",
    "        self.title = soup.title.string if soup.title else \"No tiene título\"\n",
    "        for irrelevant in soup.body([\"script\", \"style\", \"img\", \"input\"]):\n",
    "            irrelevant.decompose()\n",
    "        self.text = soup.body.get_text(separator=\"\\n\", strip=True)"
   ],
   "outputs": [],
   "execution_count": 16
  },
  {
   "cell_type": "code",
   "id": "2ef960cf-6dc2-4cda-afb3-b38be12f4c97",
   "metadata": {
    "ExecuteTime": {
     "end_time": "2025-07-18T00:14:16.166008Z",
     "start_time": "2025-07-18T00:14:15.221615Z"
    }
   },
   "source": [
    "# Vamos a probar\n",
    "\n",
    "frog = Website(\"https://cursos.frogamesformacion.com\")\n",
    "print(frog.title)\n",
    "print(frog.text)"
   ],
   "outputs": [
    {
     "name": "stdout",
     "output_type": "stream",
     "text": [
      "Frogames\n",
      "Ir al contenido principal\n",
      "Frogames\n",
      "Menú alternativo\n",
      "Menú\n",
      "Iniciar sesión\n",
      "Ganadora del premio 'Enseñanza online de datos y competencias digitales más innovadora de Europa, 2023'\n",
      "Pasión por\n",
      "aprender\n",
      "con los\n",
      "mejores\n",
      "En Frogames Formación te ayudamos a convertirte en todo un experto en: Programación de Videojuegos, Inteligencia Artificial, Machine Learning, Desarrollo de Apps, Data Science y mucho más.\n",
      "Aprende mientras te diviertes\n",
      "Cursos, Rutas y Suscripciones\n",
      "Certificados de finalización\n",
      "Qué encontrarás\n",
      "dentro\n",
      "de Frogames\n",
      "Cursos online y formación de calidad para toda la família\n",
      "Rutas temáticas\n",
      "Rutas organizadas para que aprendas paso a paso, subiendo cada escalón e incrementando tus conocimientos adquiridos\n",
      "Instructores Expertos\n",
      "Con un equipo de profesionales y expertos en la materia que te acompañará a lo largo de todo el aprendizaje en la plataforma\n",
      "Certificados blockchain\n",
      "Títulos verificados por blockchain para cada habilidad que aprendas, listos para compartir en tus redes sociales y mejorar tu CV\n",
      "Constantes actualizaciones\n",
      "Cada semana añadiremos nuevos o actualizaremos nuestros cursos. Extenderemos las rutas con actualizaciones periódicas.\n",
      "Los\n",
      "cursos\n",
      "top\n",
      "Nuevos Lanzamientos\n",
      "Los más vendidos\n",
      "Todos los Cursos\n",
      "Curso Completo de Ingeniería de Agentes de IA (2025)\n",
      "0\n",
      "(0)\n",
      "155\n",
      "Domina Android desde cero con Kotlin, Compose y Gemini AI\n",
      "5.0\n",
      "(1)\n",
      "532\n",
      "Domina las Interfaces de Usuario en Unity 6: De Cero a Experto en UI/UX Interactiva\n",
      "0\n",
      "(0)\n",
      "61\n",
      "Fundamentos Avanzados de Matemáticas para Machine Learning\n",
      "5.0\n",
      "(3)\n",
      "93\n",
      "Inteligencia Artificial en Flutter con Firebase AI\n",
      "0\n",
      "(0)\n",
      "39\n",
      "🎓 Google Classroom: Domina la Enseñanza Digital y Optimiza el Aprendizaje en el Aula Virtual\n",
      "5.0\n",
      "(3)\n",
      "23\n",
      "🤖 Domina la IA para Mejorar tu Productividad 🚀\n",
      "5.0\n",
      "(3)\n",
      "20\n",
      "🎬 Música Cinemática: Análisis de Bandas Sonoras de Héroes, Villanos y Escenas Cómicas 🎶\n",
      "5.0\n",
      "(2)\n",
      "73\n",
      "🎶 Creación de Música Interactiva para Videojuegos 🎮\n",
      "5.0\n",
      "(3)\n",
      "72\n",
      "🎬 La Magia del Sonido en Mundos Sobrenaturales y Fantásticos 🪄👻\n",
      "5.0\n",
      "(6)\n",
      "72\n",
      "Fundamentos de la Teoría Musical 🎼\n",
      "5.0\n",
      "(6)\n",
      "44\n",
      "🎬 El Arte de la Acción y el Drama en Bandas Sonoras Épicas 🎶\n",
      "5.0\n",
      "(6)\n",
      "82\n",
      "Aprende Matemáticas desde Cero - Aritmética\n",
      "5.0\n",
      "(24)\n",
      "345\n",
      "Guía definitiva de ChatGPT: domina la productividad con ejemplos reales\n",
      "5.0\n",
      "(11)\n",
      "82\n",
      "15 días de Power BI - El bootcamp completo de Power BI\n",
      "5.0\n",
      "(21)\n",
      "199\n",
      "Machine Learning de la A a la Z\n",
      "5.0\n",
      "(29)\n",
      "304\n",
      "Curso de desarrollo de videojuegos con Unity 2021\n",
      "5.0\n",
      "(20)\n",
      "339\n",
      "Trading algorítmico para principiantes: de cero a héroe\n",
      "4.9\n",
      "(17)\n",
      "102\n",
      "Curso Completo de Unreal Engine 5\n",
      "5.0\n",
      "(15)\n",
      "129\n",
      "Curso completo de Python de la A a la Z\n",
      "5.0\n",
      "(47)\n",
      "498\n",
      "Más de\n",
      "500.000\n",
      "estudiantes de\n",
      "todos\n",
      "los niveles satisfechos\n",
      "Nuestros estudiantes han desarrollado sus habilidades gracias a nuestros cursos. Estas son algunas de sus historias.\n",
      "Me gusta aprender en Frogames porque sus cursos son especializados\n",
      "Realmente prácticos, muy avanzados en contenido lo que es un reto muy emocionante. Estoy aprendiendo las bases matemáticas de los videojuegos, lo que pocos enseñan o solamente lo hacen superficialmente, siempre que ingreso a la plataforma estoy con una sonrisa de oreja a oreja\n",
      "Edwyn Mendoza\n",
      "Me encanta ser parte de una comunidad donde se aprende, crece y también se disfruta.\n",
      "Siempre estaré eternamente agradecida de todas las herramientas que Frogrames me ha entregado tan generosamente como persona y profesional. Lo recomiendo sin duda alguna con los ojos cerrados.\n",
      "Javiera Constanza Vallejos Jara\n",
      "Desde el primer momento elegí la suscripción anual por todas las ventajas que ofrece.\n",
      "Sabía que sería una decisión acertada desde el primer momento. Ahora puedo acceder a todos los cursos que quiero y con nuevo contenido cada semana. ¡Me encanta Frogames Formación!\n",
      "Matias Ángel Bloisi\n",
      "¡Me encanta aprender aquí!\n",
      "Es el lugar adecuado para aprender diferentes temáticas en un solo lugar. Con profesores que dominan el tema y te ayudan en todo momento. Estoy encantado de estar junto a esta comunidad de amigos.\n",
      "Eulogio Enamorado Pallares\n",
      "Estoy muy satisfecho y lo recomiendo 100%\n",
      "Destaco de la plataforma es que el curso que me encuentro realizando, explican no sólo el curso en sí, sino cómo preparar los entornos de desarrollo que muchas veces se obvian en otros lados. Además el curso se lleva a cabo con un caso real en el cloud y también existen clases bono que permite realizar los casos como Senior, y que sólo se lograría con algunos años de experiencia.\n",
      "Alexis G. Álvarez\n",
      "Mi ilusión diaria es mi curso de Frogames\n",
      "A mis 45 años me decidí a estudiar programación, inicié un curso de FP, pero donde disfruto aprendiendo es en Frogames, la calidad de su equipo humano es la mejor que he visto hasta ahora en cursos online.\n",
      "Toni Peña Palencia\n",
      "Motivación y cambio positivo en la vida.\n",
      "Hubo en mi vida, un momento que necesitaba dar un giro, salir de la rutina, empecé a buscar nuevos desafíos y me encontré con Frogames. Aquí pude encontrar profesores con alto dominio en los temas actuales de matemáticas, programación e Inteligencia Artificial. Estoy feliz y fue una buena decisión.\n",
      "Christian Cadena R.\n",
      "Oportunidad de formación X2\n",
      "Me permite estudiar desarrollo de juegos y al mismo tiempo estudiar informática en la universidad, soy de Venezuela y jamás pensé en tener la oportunidad de aprender tantas cosas que amo a tan bajo precio y de forma tan completa en cualquier momento.\n",
      "Sebastián Terán\n",
      "En\n",
      "Frogames\n",
      "hemos creado una plataforma para gente como\n",
      "tú\n",
      "...\n",
      "Licenciado en matemáticas y máster en educación. Juan Gabriel Gomila dedicó sus primeros años de trabajo en una empresa de videojuegos de Mallorca.\n",
      "Después de tres años, empezó a grabar cursos online en su casa para cumplir una misión: enseñar al resto del mundo lo que él había aprendido para dar opciones a todo el mundo que quisiera tomar sus cursos.\n",
      "Años después y con todo lo aprendido en varias plataformas como Udemy o Platzi, fundó Frogames junto a María Santos, donde el equipo docente de más de 20 instructores online ha enseñado a más de 500.000 estudiantes en todo el mundo en habla hispana.\n",
      "Empieza a aprender con nosotros hoy mismo\n",
      "Para que puedas conocer nuestra plataforma y todo lo que puedes aprender en ella, te hacemos entrega de este curso totalmente gratuito para que te inicies desde cero en el mundo del trading algorítmico con Python.\n",
      "¡Así podrás conocer nuestras competiciones, certificados blockchain, logros, comunidad de estudiantes y mucho más!\n",
      "¡Esperamos que lo disfrutes!\n",
      "¡Sí! ¡Quiero mi curso gratis!\n",
      "FORMACIÓN PARA EMPRESAS\n",
      "Frogames para\n",
      "Empresas\n",
      "marca una ventaja\n",
      "competitiva\n",
      ".\n",
      "Conoce a Alberto Valls, que ha aprendido a gestionar su planta en Valencia gracias a los cursos de Power BI\n",
      "Empresas formadas\n",
      "Frogames para Empresas\n",
      "Trustpilot\n",
      "¿Qué\n",
      "temas\n",
      "quieres aprender?\n",
      "C#\n",
      "Excel\n",
      "Habilidades Blandas\n",
      "Java\n",
      "Kotlin\n",
      "Machine Learning\n",
      "Marketing\n",
      "Power BI\n",
      "Python\n",
      "R\n",
      "Reporting\n",
      "SQL\n",
      "Solidity\n",
      "Swift\n",
      "Tableau\n",
      "Unity\n",
      "Unreal Engine\n",
      "Conoce todas nuestras\n",
      "Rutas de Aprendizaje\n",
      "Matemáticas desde Cero\n",
      "Matemáticas\n",
      "Lenguajes de Programación\n",
      "Emprendimiento\n",
      "Análisis de Datos\n",
      "Business Intelligence\n",
      "Trading Algorítmico\n",
      "Inteligencia Artificial\n",
      "Desarrollo Android\n",
      "Desarrollo iOS\n",
      "Desarrollo de Videojuegos\n",
      "Blockchain\n",
      "Ofimática\n",
      "Base de Datos\n",
      "Desarrollo Multiplataforma\n",
      "Desarrollo Web\n",
      "Composición Musical\n",
      "Premios y Distinciones\n",
      "Frogames Formación y Juan Gabriel Gomila han ganado diversos\n",
      "premios y distinciones\n",
      "como plataforma educativa destacada a nivel mundial.\n",
      "Y SI QUIERES TRABAJAR CON NOSOTROS\n",
      "Puedes optar a convertirte afiliado y ser remunerado por cada venta que consigas\n",
      "Si tienes una audiencia o gestionas un grupo de personas interesadas en la formación, ¡Frogames tiene un sistema de afiliados que te recompensa por tu trabajo!\n",
      "+\n",
      "Aviso Legal\n",
      "Política de Privacidad\n",
      "Términos de Uso\n",
      "Política de Cookies\n",
      "Política de Redes Sociales\n",
      "FAQs\n",
      "© Copyright Frogames 2025\n"
     ]
    }
   ],
   "execution_count": 17
  },
  {
   "cell_type": "markdown",
   "id": "6a478a0c-2c53-48ff-869c-4d08199931e1",
   "metadata": {},
   "source": [
    "## Tipos de indicaciones/prompts\n",
    "\n",
    "Quizás ya sepas esto, pero si no, te resultará muy familiar.\n",
    "\n",
    "Los modelos como GPT4o han sido entrenados para recibir instrucciones de una manera particular.\n",
    "\n",
    "Esperan recibir:\n",
    "\n",
    "**Una indicación del sistema** que les indique qué tarea están realizando y qué tono deben usar\n",
    "\n",
    "**Una indicación del usuario**: el inicio de la conversación al que deben responder"
   ]
  },
  {
   "cell_type": "code",
   "id": "abdb8417-c5dc-44bc-9bee-2e059d162699",
   "metadata": {
    "ExecuteTime": {
     "end_time": "2025-07-18T00:14:18.627283Z",
     "start_time": "2025-07-18T00:14:18.623751Z"
    }
   },
   "source": [
    "# Define nuestro mensaje de sistema: puedes experimentar con esto más tarde, cambiando la última oración a \"Responder en Markdown en español\".\n",
    "\n",
    "system_prompt = \"Eres un asistente que analiza el contenido de un sitio web \\\n",
    "y proporciona un breve resumen, ignorando el texto que podría estar relacionado con la navegación. \\\n",
    "Responder en Markdown.\""
   ],
   "outputs": [],
   "execution_count": 18
  },
  {
   "cell_type": "code",
   "id": "f0275b1b-7cfe-4f9d-abfa-7650d378da0c",
   "metadata": {
    "ExecuteTime": {
     "end_time": "2025-07-18T00:14:20.598480Z",
     "start_time": "2025-07-18T00:14:20.594928Z"
    }
   },
   "source": [
    "# Una función que escribe un mensaje de usuario que solicita resúmenes de sitios web:\n",
    "\n",
    "def user_prompt_for(website):\n",
    "    user_prompt = f\"Estás viendo un sitio web titulado {website.title}\"\n",
    "    user_prompt += \"\\nEl contenido de este sitio web es el siguiente; \\\n",
    "    proporciona un breve resumen de este sitio web en formato Markdown. \\\n",
    "    Si incluye noticias, productos o anuncios, resúmelos también.\\n\\n\"\n",
    "    user_prompt += website.text\n",
    "    return user_prompt"
   ],
   "outputs": [],
   "execution_count": 19
  },
  {
   "cell_type": "code",
   "id": "26448ec4-5c00-4204-baec-7df91d11ff2e",
   "metadata": {
    "ExecuteTime": {
     "end_time": "2025-07-18T00:14:23.027680Z",
     "start_time": "2025-07-18T00:14:23.023073Z"
    }
   },
   "source": [
    "print(user_prompt_for(frog))"
   ],
   "outputs": [
    {
     "name": "stdout",
     "output_type": "stream",
     "text": [
      "Estás viendo un sitio web titulado Frogames\n",
      "El contenido de este sitio web es el siguiente;     proporciona un breve resumen de este sitio web en formato Markdown.     Si incluye noticias, productos o anuncios, resúmelos también.\n",
      "\n",
      "Ir al contenido principal\n",
      "Frogames\n",
      "Menú alternativo\n",
      "Menú\n",
      "Iniciar sesión\n",
      "Ganadora del premio 'Enseñanza online de datos y competencias digitales más innovadora de Europa, 2023'\n",
      "Pasión por\n",
      "aprender\n",
      "con los\n",
      "mejores\n",
      "En Frogames Formación te ayudamos a convertirte en todo un experto en: Programación de Videojuegos, Inteligencia Artificial, Machine Learning, Desarrollo de Apps, Data Science y mucho más.\n",
      "Aprende mientras te diviertes\n",
      "Cursos, Rutas y Suscripciones\n",
      "Certificados de finalización\n",
      "Qué encontrarás\n",
      "dentro\n",
      "de Frogames\n",
      "Cursos online y formación de calidad para toda la família\n",
      "Rutas temáticas\n",
      "Rutas organizadas para que aprendas paso a paso, subiendo cada escalón e incrementando tus conocimientos adquiridos\n",
      "Instructores Expertos\n",
      "Con un equipo de profesionales y expertos en la materia que te acompañará a lo largo de todo el aprendizaje en la plataforma\n",
      "Certificados blockchain\n",
      "Títulos verificados por blockchain para cada habilidad que aprendas, listos para compartir en tus redes sociales y mejorar tu CV\n",
      "Constantes actualizaciones\n",
      "Cada semana añadiremos nuevos o actualizaremos nuestros cursos. Extenderemos las rutas con actualizaciones periódicas.\n",
      "Los\n",
      "cursos\n",
      "top\n",
      "Nuevos Lanzamientos\n",
      "Los más vendidos\n",
      "Todos los Cursos\n",
      "Curso Completo de Ingeniería de Agentes de IA (2025)\n",
      "0\n",
      "(0)\n",
      "155\n",
      "Domina Android desde cero con Kotlin, Compose y Gemini AI\n",
      "5.0\n",
      "(1)\n",
      "532\n",
      "Domina las Interfaces de Usuario en Unity 6: De Cero a Experto en UI/UX Interactiva\n",
      "0\n",
      "(0)\n",
      "61\n",
      "Fundamentos Avanzados de Matemáticas para Machine Learning\n",
      "5.0\n",
      "(3)\n",
      "93\n",
      "Inteligencia Artificial en Flutter con Firebase AI\n",
      "0\n",
      "(0)\n",
      "39\n",
      "🎓 Google Classroom: Domina la Enseñanza Digital y Optimiza el Aprendizaje en el Aula Virtual\n",
      "5.0\n",
      "(3)\n",
      "23\n",
      "🤖 Domina la IA para Mejorar tu Productividad 🚀\n",
      "5.0\n",
      "(3)\n",
      "20\n",
      "🎬 Música Cinemática: Análisis de Bandas Sonoras de Héroes, Villanos y Escenas Cómicas 🎶\n",
      "5.0\n",
      "(2)\n",
      "73\n",
      "🎶 Creación de Música Interactiva para Videojuegos 🎮\n",
      "5.0\n",
      "(3)\n",
      "72\n",
      "🎬 La Magia del Sonido en Mundos Sobrenaturales y Fantásticos 🪄👻\n",
      "5.0\n",
      "(6)\n",
      "72\n",
      "Fundamentos de la Teoría Musical 🎼\n",
      "5.0\n",
      "(6)\n",
      "44\n",
      "🎬 El Arte de la Acción y el Drama en Bandas Sonoras Épicas 🎶\n",
      "5.0\n",
      "(6)\n",
      "82\n",
      "Aprende Matemáticas desde Cero - Aritmética\n",
      "5.0\n",
      "(24)\n",
      "345\n",
      "Guía definitiva de ChatGPT: domina la productividad con ejemplos reales\n",
      "5.0\n",
      "(11)\n",
      "82\n",
      "15 días de Power BI - El bootcamp completo de Power BI\n",
      "5.0\n",
      "(21)\n",
      "199\n",
      "Machine Learning de la A a la Z\n",
      "5.0\n",
      "(29)\n",
      "304\n",
      "Curso de desarrollo de videojuegos con Unity 2021\n",
      "5.0\n",
      "(20)\n",
      "339\n",
      "Trading algorítmico para principiantes: de cero a héroe\n",
      "4.9\n",
      "(17)\n",
      "102\n",
      "Curso Completo de Unreal Engine 5\n",
      "5.0\n",
      "(15)\n",
      "129\n",
      "Curso completo de Python de la A a la Z\n",
      "5.0\n",
      "(47)\n",
      "498\n",
      "Más de\n",
      "500.000\n",
      "estudiantes de\n",
      "todos\n",
      "los niveles satisfechos\n",
      "Nuestros estudiantes han desarrollado sus habilidades gracias a nuestros cursos. Estas son algunas de sus historias.\n",
      "Me gusta aprender en Frogames porque sus cursos son especializados\n",
      "Realmente prácticos, muy avanzados en contenido lo que es un reto muy emocionante. Estoy aprendiendo las bases matemáticas de los videojuegos, lo que pocos enseñan o solamente lo hacen superficialmente, siempre que ingreso a la plataforma estoy con una sonrisa de oreja a oreja\n",
      "Edwyn Mendoza\n",
      "Me encanta ser parte de una comunidad donde se aprende, crece y también se disfruta.\n",
      "Siempre estaré eternamente agradecida de todas las herramientas que Frogrames me ha entregado tan generosamente como persona y profesional. Lo recomiendo sin duda alguna con los ojos cerrados.\n",
      "Javiera Constanza Vallejos Jara\n",
      "Desde el primer momento elegí la suscripción anual por todas las ventajas que ofrece.\n",
      "Sabía que sería una decisión acertada desde el primer momento. Ahora puedo acceder a todos los cursos que quiero y con nuevo contenido cada semana. ¡Me encanta Frogames Formación!\n",
      "Matias Ángel Bloisi\n",
      "¡Me encanta aprender aquí!\n",
      "Es el lugar adecuado para aprender diferentes temáticas en un solo lugar. Con profesores que dominan el tema y te ayudan en todo momento. Estoy encantado de estar junto a esta comunidad de amigos.\n",
      "Eulogio Enamorado Pallares\n",
      "Estoy muy satisfecho y lo recomiendo 100%\n",
      "Destaco de la plataforma es que el curso que me encuentro realizando, explican no sólo el curso en sí, sino cómo preparar los entornos de desarrollo que muchas veces se obvian en otros lados. Además el curso se lleva a cabo con un caso real en el cloud y también existen clases bono que permite realizar los casos como Senior, y que sólo se lograría con algunos años de experiencia.\n",
      "Alexis G. Álvarez\n",
      "Mi ilusión diaria es mi curso de Frogames\n",
      "A mis 45 años me decidí a estudiar programación, inicié un curso de FP, pero donde disfruto aprendiendo es en Frogames, la calidad de su equipo humano es la mejor que he visto hasta ahora en cursos online.\n",
      "Toni Peña Palencia\n",
      "Motivación y cambio positivo en la vida.\n",
      "Hubo en mi vida, un momento que necesitaba dar un giro, salir de la rutina, empecé a buscar nuevos desafíos y me encontré con Frogames. Aquí pude encontrar profesores con alto dominio en los temas actuales de matemáticas, programación e Inteligencia Artificial. Estoy feliz y fue una buena decisión.\n",
      "Christian Cadena R.\n",
      "Oportunidad de formación X2\n",
      "Me permite estudiar desarrollo de juegos y al mismo tiempo estudiar informática en la universidad, soy de Venezuela y jamás pensé en tener la oportunidad de aprender tantas cosas que amo a tan bajo precio y de forma tan completa en cualquier momento.\n",
      "Sebastián Terán\n",
      "En\n",
      "Frogames\n",
      "hemos creado una plataforma para gente como\n",
      "tú\n",
      "...\n",
      "Licenciado en matemáticas y máster en educación. Juan Gabriel Gomila dedicó sus primeros años de trabajo en una empresa de videojuegos de Mallorca.\n",
      "Después de tres años, empezó a grabar cursos online en su casa para cumplir una misión: enseñar al resto del mundo lo que él había aprendido para dar opciones a todo el mundo que quisiera tomar sus cursos.\n",
      "Años después y con todo lo aprendido en varias plataformas como Udemy o Platzi, fundó Frogames junto a María Santos, donde el equipo docente de más de 20 instructores online ha enseñado a más de 500.000 estudiantes en todo el mundo en habla hispana.\n",
      "Empieza a aprender con nosotros hoy mismo\n",
      "Para que puedas conocer nuestra plataforma y todo lo que puedes aprender en ella, te hacemos entrega de este curso totalmente gratuito para que te inicies desde cero en el mundo del trading algorítmico con Python.\n",
      "¡Así podrás conocer nuestras competiciones, certificados blockchain, logros, comunidad de estudiantes y mucho más!\n",
      "¡Esperamos que lo disfrutes!\n",
      "¡Sí! ¡Quiero mi curso gratis!\n",
      "FORMACIÓN PARA EMPRESAS\n",
      "Frogames para\n",
      "Empresas\n",
      "marca una ventaja\n",
      "competitiva\n",
      ".\n",
      "Conoce a Alberto Valls, que ha aprendido a gestionar su planta en Valencia gracias a los cursos de Power BI\n",
      "Empresas formadas\n",
      "Frogames para Empresas\n",
      "Trustpilot\n",
      "¿Qué\n",
      "temas\n",
      "quieres aprender?\n",
      "C#\n",
      "Excel\n",
      "Habilidades Blandas\n",
      "Java\n",
      "Kotlin\n",
      "Machine Learning\n",
      "Marketing\n",
      "Power BI\n",
      "Python\n",
      "R\n",
      "Reporting\n",
      "SQL\n",
      "Solidity\n",
      "Swift\n",
      "Tableau\n",
      "Unity\n",
      "Unreal Engine\n",
      "Conoce todas nuestras\n",
      "Rutas de Aprendizaje\n",
      "Matemáticas desde Cero\n",
      "Matemáticas\n",
      "Lenguajes de Programación\n",
      "Emprendimiento\n",
      "Análisis de Datos\n",
      "Business Intelligence\n",
      "Trading Algorítmico\n",
      "Inteligencia Artificial\n",
      "Desarrollo Android\n",
      "Desarrollo iOS\n",
      "Desarrollo de Videojuegos\n",
      "Blockchain\n",
      "Ofimática\n",
      "Base de Datos\n",
      "Desarrollo Multiplataforma\n",
      "Desarrollo Web\n",
      "Composición Musical\n",
      "Premios y Distinciones\n",
      "Frogames Formación y Juan Gabriel Gomila han ganado diversos\n",
      "premios y distinciones\n",
      "como plataforma educativa destacada a nivel mundial.\n",
      "Y SI QUIERES TRABAJAR CON NOSOTROS\n",
      "Puedes optar a convertirte afiliado y ser remunerado por cada venta que consigas\n",
      "Si tienes una audiencia o gestionas un grupo de personas interesadas en la formación, ¡Frogames tiene un sistema de afiliados que te recompensa por tu trabajo!\n",
      "+\n",
      "Aviso Legal\n",
      "Política de Privacidad\n",
      "Términos de Uso\n",
      "Política de Cookies\n",
      "Política de Redes Sociales\n",
      "FAQs\n",
      "© Copyright Frogames 2025\n"
     ]
    }
   ],
   "execution_count": 20
  },
  {
   "cell_type": "markdown",
   "id": "ea211b5f-28e1-4a86-8e52-c0b7677cadcc",
   "metadata": {},
   "source": [
    "## Mensajes\n",
    "\n",
    "La API de OpenAI espera recibir mensajes en una estructura particular.\n",
    "Muchas de las otras API comparten esta estructura:\n",
    "\n",
    "```\n",
    "[\n",
    "    {\"role\": \"system\", \"content\": \"el mensaje de sistema va aquí\"},\n",
    "    {\"role\": \"user\", \"content\": \"el mensaje de usuario va aquí\"}\n",
    "]"
   ]
  },
  {
   "cell_type": "code",
   "id": "0134dfa4-8299-48b5-b444-f2a8c3403c88",
   "metadata": {
    "ExecuteTime": {
     "end_time": "2025-07-18T00:14:27.091161Z",
     "start_time": "2025-07-18T00:14:27.088538Z"
    }
   },
   "source": [
    "# Puedes ver cómo esta función crea exactamente el formato anterior\n",
    "\n",
    "def messages_for(website):\n",
    "    return [\n",
    "        {\"role\": \"system\", \"content\": system_prompt},\n",
    "        {\"role\": \"user\", \"content\": user_prompt_for(website)}\n",
    "    ]"
   ],
   "outputs": [],
   "execution_count": 21
  },
  {
   "cell_type": "code",
   "id": "36478464-39ee-485c-9f3f-6a4e458dbc9c",
   "metadata": {
    "ExecuteTime": {
     "end_time": "2025-07-18T00:14:30.189055Z",
     "start_time": "2025-07-18T00:14:30.184767Z"
    }
   },
   "source": [
    "messages_for(frog)"
   ],
   "outputs": [
    {
     "data": {
      "text/plain": [
       "[{'role': 'system',\n",
       "  'content': 'Eres un asistente que analiza el contenido de un sitio web y proporciona un breve resumen, ignorando el texto que podría estar relacionado con la navegación. Responder en Markdown.'},\n",
       " {'role': 'user',\n",
       "  'content': \"Estás viendo un sitio web titulado Frogames\\nEl contenido de este sitio web es el siguiente;     proporciona un breve resumen de este sitio web en formato Markdown.     Si incluye noticias, productos o anuncios, resúmelos también.\\n\\nIr al contenido principal\\nFrogames\\nMenú alternativo\\nMenú\\nIniciar sesión\\nGanadora del premio 'Enseñanza online de datos y competencias digitales más innovadora de Europa, 2023'\\nPasión por\\naprender\\ncon los\\nmejores\\nEn Frogames Formación te ayudamos a convertirte en todo un experto en: Programación de Videojuegos, Inteligencia Artificial, Machine Learning, Desarrollo de Apps, Data Science y mucho más.\\nAprende mientras te diviertes\\nCursos, Rutas y Suscripciones\\nCertificados de finalización\\nQué encontrarás\\ndentro\\nde Frogames\\nCursos online y formación de calidad para toda la família\\nRutas temáticas\\nRutas organizadas para que aprendas paso a paso, subiendo cada escalón e incrementando tus conocimientos adquiridos\\nInstructores Expertos\\nCon un equipo de profesionales y expertos en la materia que te acompañará a lo largo de todo el aprendizaje en la plataforma\\nCertificados blockchain\\nTítulos verificados por blockchain para cada habilidad que aprendas, listos para compartir en tus redes sociales y mejorar tu CV\\nConstantes actualizaciones\\nCada semana añadiremos nuevos o actualizaremos nuestros cursos. Extenderemos las rutas con actualizaciones periódicas.\\nLos\\ncursos\\ntop\\nNuevos Lanzamientos\\nLos más vendidos\\nTodos los Cursos\\nCurso Completo de Ingeniería de Agentes de IA (2025)\\n0\\n(0)\\n155\\nDomina Android desde cero con Kotlin, Compose y Gemini AI\\n5.0\\n(1)\\n532\\nDomina las Interfaces de Usuario en Unity 6: De Cero a Experto en UI/UX Interactiva\\n0\\n(0)\\n61\\nFundamentos Avanzados de Matemáticas para Machine Learning\\n5.0\\n(3)\\n93\\nInteligencia Artificial en Flutter con Firebase AI\\n0\\n(0)\\n39\\n🎓 Google Classroom: Domina la Enseñanza Digital y Optimiza el Aprendizaje en el Aula Virtual\\n5.0\\n(3)\\n23\\n🤖 Domina la IA para Mejorar tu Productividad 🚀\\n5.0\\n(3)\\n20\\n🎬 Música Cinemática: Análisis de Bandas Sonoras de Héroes, Villanos y Escenas Cómicas 🎶\\n5.0\\n(2)\\n73\\n🎶 Creación de Música Interactiva para Videojuegos 🎮\\n5.0\\n(3)\\n72\\n🎬 La Magia del Sonido en Mundos Sobrenaturales y Fantásticos 🪄👻\\n5.0\\n(6)\\n72\\nFundamentos de la Teoría Musical 🎼\\n5.0\\n(6)\\n44\\n🎬 El Arte de la Acción y el Drama en Bandas Sonoras Épicas 🎶\\n5.0\\n(6)\\n82\\nAprende Matemáticas desde Cero - Aritmética\\n5.0\\n(24)\\n345\\nGuía definitiva de ChatGPT: domina la productividad con ejemplos reales\\n5.0\\n(11)\\n82\\n15 días de Power BI - El bootcamp completo de Power BI\\n5.0\\n(21)\\n199\\nMachine Learning de la A a la Z\\n5.0\\n(29)\\n304\\nCurso de desarrollo de videojuegos con Unity 2021\\n5.0\\n(20)\\n339\\nTrading algorítmico para principiantes: de cero a héroe\\n4.9\\n(17)\\n102\\nCurso Completo de Unreal Engine 5\\n5.0\\n(15)\\n129\\nCurso completo de Python de la A a la Z\\n5.0\\n(47)\\n498\\nMás de\\n500.000\\nestudiantes de\\ntodos\\nlos niveles satisfechos\\nNuestros estudiantes han desarrollado sus habilidades gracias a nuestros cursos. Estas son algunas de sus historias.\\nMe gusta aprender en Frogames porque sus cursos son especializados\\nRealmente prácticos, muy avanzados en contenido lo que es un reto muy emocionante. Estoy aprendiendo las bases matemáticas de los videojuegos, lo que pocos enseñan o solamente lo hacen superficialmente, siempre que ingreso a la plataforma estoy con una sonrisa de oreja a oreja\\nEdwyn Mendoza\\nMe encanta ser parte de una comunidad donde se aprende, crece y también se disfruta.\\nSiempre estaré eternamente agradecida de todas las herramientas que Frogrames me ha entregado tan generosamente como persona y profesional. Lo recomiendo sin duda alguna con los ojos cerrados.\\nJaviera Constanza Vallejos Jara\\nDesde el primer momento elegí la suscripción anual por todas las ventajas que ofrece.\\nSabía que sería una decisión acertada desde el primer momento. Ahora puedo acceder a todos los cursos que quiero y con nuevo contenido cada semana. ¡Me encanta Frogames Formación!\\nMatias Ángel Bloisi\\n¡Me encanta aprender aquí!\\nEs el lugar adecuado para aprender diferentes temáticas en un solo lugar. Con profesores que dominan el tema y te ayudan en todo momento. Estoy encantado de estar junto a esta comunidad de amigos.\\nEulogio Enamorado Pallares\\nEstoy muy satisfecho y lo recomiendo 100%\\nDestaco de la plataforma es que el curso que me encuentro realizando, explican no sólo el curso en sí, sino cómo preparar los entornos de desarrollo que muchas veces se obvian en otros lados. Además el curso se lleva a cabo con un caso real en el cloud y también existen clases bono que permite realizar los casos como Senior, y que sólo se lograría con algunos años de experiencia.\\nAlexis G. Álvarez\\nMi ilusión diaria es mi curso de Frogames\\nA mis 45 años me decidí a estudiar programación, inicié un curso de FP, pero donde disfruto aprendiendo es en Frogames, la calidad de su equipo humano es la mejor que he visto hasta ahora en cursos online.\\nToni Peña Palencia\\nMotivación y cambio positivo en la vida.\\nHubo en mi vida, un momento que necesitaba dar un giro, salir de la rutina, empecé a buscar nuevos desafíos y me encontré con Frogames. Aquí pude encontrar profesores con alto dominio en los temas actuales de matemáticas, programación e Inteligencia Artificial. Estoy feliz y fue una buena decisión.\\nChristian Cadena R.\\nOportunidad de formación X2\\nMe permite estudiar desarrollo de juegos y al mismo tiempo estudiar informática en la universidad, soy de Venezuela y jamás pensé en tener la oportunidad de aprender tantas cosas que amo a tan bajo precio y de forma tan completa en cualquier momento.\\nSebastián Terán\\nEn\\nFrogames\\nhemos creado una plataforma para gente como\\ntú\\n...\\nLicenciado en matemáticas y máster en educación. Juan Gabriel Gomila dedicó sus primeros años de trabajo en una empresa de videojuegos de Mallorca.\\nDespués de tres años, empezó a grabar cursos online en su casa para cumplir una misión: enseñar al resto del mundo lo que él había aprendido para dar opciones a todo el mundo que quisiera tomar sus cursos.\\nAños después y con todo lo aprendido en varias plataformas como Udemy o Platzi, fundó Frogames junto a María Santos, donde el equipo docente de más de 20 instructores online ha enseñado a más de 500.000 estudiantes en todo el mundo en habla hispana.\\nEmpieza a aprender con nosotros hoy mismo\\nPara que puedas conocer nuestra plataforma y todo lo que puedes aprender en ella, te hacemos entrega de este curso totalmente gratuito para que te inicies desde cero en el mundo del trading algorítmico con Python.\\n¡Así podrás conocer nuestras competiciones, certificados blockchain, logros, comunidad de estudiantes y mucho más!\\n¡Esperamos que lo disfrutes!\\n¡Sí! ¡Quiero mi curso gratis!\\nFORMACIÓN PARA EMPRESAS\\nFrogames para\\nEmpresas\\nmarca una ventaja\\ncompetitiva\\n.\\nConoce a Alberto Valls, que ha aprendido a gestionar su planta en Valencia gracias a los cursos de Power BI\\nEmpresas formadas\\nFrogames para Empresas\\nTrustpilot\\n¿Qué\\ntemas\\nquieres aprender?\\nC#\\nExcel\\nHabilidades Blandas\\nJava\\nKotlin\\nMachine Learning\\nMarketing\\nPower BI\\nPython\\nR\\nReporting\\nSQL\\nSolidity\\nSwift\\nTableau\\nUnity\\nUnreal Engine\\nConoce todas nuestras\\nRutas de Aprendizaje\\nMatemáticas desde Cero\\nMatemáticas\\nLenguajes de Programación\\nEmprendimiento\\nAnálisis de Datos\\nBusiness Intelligence\\nTrading Algorítmico\\nInteligencia Artificial\\nDesarrollo Android\\nDesarrollo iOS\\nDesarrollo de Videojuegos\\nBlockchain\\nOfimática\\nBase de Datos\\nDesarrollo Multiplataforma\\nDesarrollo Web\\nComposición Musical\\nPremios y Distinciones\\nFrogames Formación y Juan Gabriel Gomila han ganado diversos\\npremios y distinciones\\ncomo plataforma educativa destacada a nivel mundial.\\nY SI QUIERES TRABAJAR CON NOSOTROS\\nPuedes optar a convertirte afiliado y ser remunerado por cada venta que consigas\\nSi tienes una audiencia o gestionas un grupo de personas interesadas en la formación, ¡Frogames tiene un sistema de afiliados que te recompensa por tu trabajo!\\n+\\nAviso Legal\\nPolítica de Privacidad\\nTérminos de Uso\\nPolítica de Cookies\\nPolítica de Redes Sociales\\nFAQs\\n© Copyright Frogames 2025\"}]"
      ]
     },
     "execution_count": 22,
     "metadata": {},
     "output_type": "execute_result"
    }
   ],
   "execution_count": 22
  },
  {
   "cell_type": "markdown",
   "id": "16f49d46-bf55-4c3e-928f-68fc0bf715b0",
   "metadata": {},
   "source": [
    "## Es hora de unirlo todo: ¡la API para OpenAI es muy simple!"
   ]
  },
  {
   "cell_type": "code",
   "id": "905b9919-aba7-45b5-ae65-81b3d1d78e34",
   "metadata": {
    "ExecuteTime": {
     "end_time": "2025-07-18T00:14:32.690605Z",
     "start_time": "2025-07-18T00:14:32.687276Z"
    }
   },
   "source": [
    "# Y ahora: llama a la API de OpenAI. ¡Te resultará muy familiar!\n",
    "\n",
    "def summarize(url):\n",
    "    website = Website(url)\n",
    "    response = openai.chat.completions.create(\n",
    "        model = \"gpt-4o-mini\",\n",
    "        messages = messages_for(website)\n",
    "    )\n",
    "    return response.choices[0].message.content"
   ],
   "outputs": [],
   "execution_count": 23
  },
  {
   "cell_type": "code",
   "id": "05e38d41-dfa4-4b20-9c96-c46ea75d9fb5",
   "metadata": {
    "ExecuteTime": {
     "end_time": "2025-07-18T00:14:35.723705Z",
     "start_time": "2025-07-18T00:14:34.536622Z"
    }
   },
   "source": [
    "summarize(\"https://cursos.frogamesformacion.com\")"
   ],
   "outputs": [
    {
     "ename": "AuthenticationError",
     "evalue": "Error code: 401 - {'error': {'message': 'Incorrect API key provided: sk-proj-********************************************************************************************************************************************************dc8A. You can find your API key at https://platform.openai.com/account/api-keys.', 'type': 'invalid_request_error', 'param': None, 'code': 'invalid_api_key'}}",
     "output_type": "error",
     "traceback": [
      "\u001B[31m---------------------------------------------------------------------------\u001B[39m",
      "\u001B[31mAuthenticationError\u001B[39m                       Traceback (most recent call last)",
      "\u001B[36mCell\u001B[39m\u001B[36m \u001B[39m\u001B[32mIn[24]\u001B[39m\u001B[32m, line 1\u001B[39m\n\u001B[32m----> \u001B[39m\u001B[32m1\u001B[39m \u001B[43msummarize\u001B[49m\u001B[43m(\u001B[49m\u001B[33;43m\"\u001B[39;49m\u001B[33;43mhttps://cursos.frogamesformacion.com\u001B[39;49m\u001B[33;43m\"\u001B[39;49m\u001B[43m)\u001B[49m\n",
      "\u001B[36mCell\u001B[39m\u001B[36m \u001B[39m\u001B[32mIn[23]\u001B[39m\u001B[32m, line 5\u001B[39m, in \u001B[36msummarize\u001B[39m\u001B[34m(url)\u001B[39m\n\u001B[32m      3\u001B[39m \u001B[38;5;28;01mdef\u001B[39;00m\u001B[38;5;250m \u001B[39m\u001B[34msummarize\u001B[39m(url):\n\u001B[32m      4\u001B[39m     website = Website(url)\n\u001B[32m----> \u001B[39m\u001B[32m5\u001B[39m     response = \u001B[43mopenai\u001B[49m\u001B[43m.\u001B[49m\u001B[43mchat\u001B[49m\u001B[43m.\u001B[49m\u001B[43mcompletions\u001B[49m\u001B[43m.\u001B[49m\u001B[43mcreate\u001B[49m\u001B[43m(\u001B[49m\n\u001B[32m      6\u001B[39m \u001B[43m        \u001B[49m\u001B[43mmodel\u001B[49m\u001B[43m \u001B[49m\u001B[43m=\u001B[49m\u001B[43m \u001B[49m\u001B[33;43m\"\u001B[39;49m\u001B[33;43mgpt-4o-mini\u001B[39;49m\u001B[33;43m\"\u001B[39;49m\u001B[43m,\u001B[49m\n\u001B[32m      7\u001B[39m \u001B[43m        \u001B[49m\u001B[43mmessages\u001B[49m\u001B[43m \u001B[49m\u001B[43m=\u001B[49m\u001B[43m \u001B[49m\u001B[43mmessages_for\u001B[49m\u001B[43m(\u001B[49m\u001B[43mwebsite\u001B[49m\u001B[43m)\u001B[49m\n\u001B[32m      8\u001B[39m \u001B[43m    \u001B[49m\u001B[43m)\u001B[49m\n\u001B[32m      9\u001B[39m     \u001B[38;5;28;01mreturn\u001B[39;00m response.choices[\u001B[32m0\u001B[39m].message.content\n",
      "\u001B[36mFile \u001B[39m\u001B[32m~\\anaconda3\\envs\\llms\\Lib\\site-packages\\openai\\_utils\\_utils.py:287\u001B[39m, in \u001B[36mrequired_args.<locals>.inner.<locals>.wrapper\u001B[39m\u001B[34m(*args, **kwargs)\u001B[39m\n\u001B[32m    285\u001B[39m             msg = \u001B[33mf\u001B[39m\u001B[33m\"\u001B[39m\u001B[33mMissing required argument: \u001B[39m\u001B[38;5;132;01m{\u001B[39;00mquote(missing[\u001B[32m0\u001B[39m])\u001B[38;5;132;01m}\u001B[39;00m\u001B[33m\"\u001B[39m\n\u001B[32m    286\u001B[39m     \u001B[38;5;28;01mraise\u001B[39;00m \u001B[38;5;167;01mTypeError\u001B[39;00m(msg)\n\u001B[32m--> \u001B[39m\u001B[32m287\u001B[39m \u001B[38;5;28;01mreturn\u001B[39;00m \u001B[43mfunc\u001B[49m\u001B[43m(\u001B[49m\u001B[43m*\u001B[49m\u001B[43margs\u001B[49m\u001B[43m,\u001B[49m\u001B[43m \u001B[49m\u001B[43m*\u001B[49m\u001B[43m*\u001B[49m\u001B[43mkwargs\u001B[49m\u001B[43m)\u001B[49m\n",
      "\u001B[36mFile \u001B[39m\u001B[32m~\\anaconda3\\envs\\llms\\Lib\\site-packages\\openai\\resources\\chat\\completions\\completions.py:1087\u001B[39m, in \u001B[36mCompletions.create\u001B[39m\u001B[34m(self, messages, model, audio, frequency_penalty, function_call, functions, logit_bias, logprobs, max_completion_tokens, max_tokens, metadata, modalities, n, parallel_tool_calls, prediction, presence_penalty, reasoning_effort, response_format, seed, service_tier, stop, store, stream, stream_options, temperature, tool_choice, tools, top_logprobs, top_p, user, web_search_options, extra_headers, extra_query, extra_body, timeout)\u001B[39m\n\u001B[32m   1044\u001B[39m \u001B[38;5;129m@required_args\u001B[39m([\u001B[33m\"\u001B[39m\u001B[33mmessages\u001B[39m\u001B[33m\"\u001B[39m, \u001B[33m\"\u001B[39m\u001B[33mmodel\u001B[39m\u001B[33m\"\u001B[39m], [\u001B[33m\"\u001B[39m\u001B[33mmessages\u001B[39m\u001B[33m\"\u001B[39m, \u001B[33m\"\u001B[39m\u001B[33mmodel\u001B[39m\u001B[33m\"\u001B[39m, \u001B[33m\"\u001B[39m\u001B[33mstream\u001B[39m\u001B[33m\"\u001B[39m])\n\u001B[32m   1045\u001B[39m \u001B[38;5;28;01mdef\u001B[39;00m\u001B[38;5;250m \u001B[39m\u001B[34mcreate\u001B[39m(\n\u001B[32m   1046\u001B[39m     \u001B[38;5;28mself\u001B[39m,\n\u001B[32m   (...)\u001B[39m\u001B[32m   1084\u001B[39m     timeout: \u001B[38;5;28mfloat\u001B[39m | httpx.Timeout | \u001B[38;5;28;01mNone\u001B[39;00m | NotGiven = NOT_GIVEN,\n\u001B[32m   1085\u001B[39m ) -> ChatCompletion | Stream[ChatCompletionChunk]:\n\u001B[32m   1086\u001B[39m     validate_response_format(response_format)\n\u001B[32m-> \u001B[39m\u001B[32m1087\u001B[39m     \u001B[38;5;28;01mreturn\u001B[39;00m \u001B[38;5;28;43mself\u001B[39;49m\u001B[43m.\u001B[49m\u001B[43m_post\u001B[49m\u001B[43m(\u001B[49m\n\u001B[32m   1088\u001B[39m \u001B[43m        \u001B[49m\u001B[33;43m\"\u001B[39;49m\u001B[33;43m/chat/completions\u001B[39;49m\u001B[33;43m\"\u001B[39;49m\u001B[43m,\u001B[49m\n\u001B[32m   1089\u001B[39m \u001B[43m        \u001B[49m\u001B[43mbody\u001B[49m\u001B[43m=\u001B[49m\u001B[43mmaybe_transform\u001B[49m\u001B[43m(\u001B[49m\n\u001B[32m   1090\u001B[39m \u001B[43m            \u001B[49m\u001B[43m{\u001B[49m\n\u001B[32m   1091\u001B[39m \u001B[43m                \u001B[49m\u001B[33;43m\"\u001B[39;49m\u001B[33;43mmessages\u001B[39;49m\u001B[33;43m\"\u001B[39;49m\u001B[43m:\u001B[49m\u001B[43m \u001B[49m\u001B[43mmessages\u001B[49m\u001B[43m,\u001B[49m\n\u001B[32m   1092\u001B[39m \u001B[43m                \u001B[49m\u001B[33;43m\"\u001B[39;49m\u001B[33;43mmodel\u001B[39;49m\u001B[33;43m\"\u001B[39;49m\u001B[43m:\u001B[49m\u001B[43m \u001B[49m\u001B[43mmodel\u001B[49m\u001B[43m,\u001B[49m\n\u001B[32m   1093\u001B[39m \u001B[43m                \u001B[49m\u001B[33;43m\"\u001B[39;49m\u001B[33;43maudio\u001B[39;49m\u001B[33;43m\"\u001B[39;49m\u001B[43m:\u001B[49m\u001B[43m \u001B[49m\u001B[43maudio\u001B[49m\u001B[43m,\u001B[49m\n\u001B[32m   1094\u001B[39m \u001B[43m                \u001B[49m\u001B[33;43m\"\u001B[39;49m\u001B[33;43mfrequency_penalty\u001B[39;49m\u001B[33;43m\"\u001B[39;49m\u001B[43m:\u001B[49m\u001B[43m \u001B[49m\u001B[43mfrequency_penalty\u001B[49m\u001B[43m,\u001B[49m\n\u001B[32m   1095\u001B[39m \u001B[43m                \u001B[49m\u001B[33;43m\"\u001B[39;49m\u001B[33;43mfunction_call\u001B[39;49m\u001B[33;43m\"\u001B[39;49m\u001B[43m:\u001B[49m\u001B[43m \u001B[49m\u001B[43mfunction_call\u001B[49m\u001B[43m,\u001B[49m\n\u001B[32m   1096\u001B[39m \u001B[43m                \u001B[49m\u001B[33;43m\"\u001B[39;49m\u001B[33;43mfunctions\u001B[39;49m\u001B[33;43m\"\u001B[39;49m\u001B[43m:\u001B[49m\u001B[43m \u001B[49m\u001B[43mfunctions\u001B[49m\u001B[43m,\u001B[49m\n\u001B[32m   1097\u001B[39m \u001B[43m                \u001B[49m\u001B[33;43m\"\u001B[39;49m\u001B[33;43mlogit_bias\u001B[39;49m\u001B[33;43m\"\u001B[39;49m\u001B[43m:\u001B[49m\u001B[43m \u001B[49m\u001B[43mlogit_bias\u001B[49m\u001B[43m,\u001B[49m\n\u001B[32m   1098\u001B[39m \u001B[43m                \u001B[49m\u001B[33;43m\"\u001B[39;49m\u001B[33;43mlogprobs\u001B[39;49m\u001B[33;43m\"\u001B[39;49m\u001B[43m:\u001B[49m\u001B[43m \u001B[49m\u001B[43mlogprobs\u001B[49m\u001B[43m,\u001B[49m\n\u001B[32m   1099\u001B[39m \u001B[43m                \u001B[49m\u001B[33;43m\"\u001B[39;49m\u001B[33;43mmax_completion_tokens\u001B[39;49m\u001B[33;43m\"\u001B[39;49m\u001B[43m:\u001B[49m\u001B[43m \u001B[49m\u001B[43mmax_completion_tokens\u001B[49m\u001B[43m,\u001B[49m\n\u001B[32m   1100\u001B[39m \u001B[43m                \u001B[49m\u001B[33;43m\"\u001B[39;49m\u001B[33;43mmax_tokens\u001B[39;49m\u001B[33;43m\"\u001B[39;49m\u001B[43m:\u001B[49m\u001B[43m \u001B[49m\u001B[43mmax_tokens\u001B[49m\u001B[43m,\u001B[49m\n\u001B[32m   1101\u001B[39m \u001B[43m                \u001B[49m\u001B[33;43m\"\u001B[39;49m\u001B[33;43mmetadata\u001B[39;49m\u001B[33;43m\"\u001B[39;49m\u001B[43m:\u001B[49m\u001B[43m \u001B[49m\u001B[43mmetadata\u001B[49m\u001B[43m,\u001B[49m\n\u001B[32m   1102\u001B[39m \u001B[43m                \u001B[49m\u001B[33;43m\"\u001B[39;49m\u001B[33;43mmodalities\u001B[39;49m\u001B[33;43m\"\u001B[39;49m\u001B[43m:\u001B[49m\u001B[43m \u001B[49m\u001B[43mmodalities\u001B[49m\u001B[43m,\u001B[49m\n\u001B[32m   1103\u001B[39m \u001B[43m                \u001B[49m\u001B[33;43m\"\u001B[39;49m\u001B[33;43mn\u001B[39;49m\u001B[33;43m\"\u001B[39;49m\u001B[43m:\u001B[49m\u001B[43m \u001B[49m\u001B[43mn\u001B[49m\u001B[43m,\u001B[49m\n\u001B[32m   1104\u001B[39m \u001B[43m                \u001B[49m\u001B[33;43m\"\u001B[39;49m\u001B[33;43mparallel_tool_calls\u001B[39;49m\u001B[33;43m\"\u001B[39;49m\u001B[43m:\u001B[49m\u001B[43m \u001B[49m\u001B[43mparallel_tool_calls\u001B[49m\u001B[43m,\u001B[49m\n\u001B[32m   1105\u001B[39m \u001B[43m                \u001B[49m\u001B[33;43m\"\u001B[39;49m\u001B[33;43mprediction\u001B[39;49m\u001B[33;43m\"\u001B[39;49m\u001B[43m:\u001B[49m\u001B[43m \u001B[49m\u001B[43mprediction\u001B[49m\u001B[43m,\u001B[49m\n\u001B[32m   1106\u001B[39m \u001B[43m                \u001B[49m\u001B[33;43m\"\u001B[39;49m\u001B[33;43mpresence_penalty\u001B[39;49m\u001B[33;43m\"\u001B[39;49m\u001B[43m:\u001B[49m\u001B[43m \u001B[49m\u001B[43mpresence_penalty\u001B[49m\u001B[43m,\u001B[49m\n\u001B[32m   1107\u001B[39m \u001B[43m                \u001B[49m\u001B[33;43m\"\u001B[39;49m\u001B[33;43mreasoning_effort\u001B[39;49m\u001B[33;43m\"\u001B[39;49m\u001B[43m:\u001B[49m\u001B[43m \u001B[49m\u001B[43mreasoning_effort\u001B[49m\u001B[43m,\u001B[49m\n\u001B[32m   1108\u001B[39m \u001B[43m                \u001B[49m\u001B[33;43m\"\u001B[39;49m\u001B[33;43mresponse_format\u001B[39;49m\u001B[33;43m\"\u001B[39;49m\u001B[43m:\u001B[49m\u001B[43m \u001B[49m\u001B[43mresponse_format\u001B[49m\u001B[43m,\u001B[49m\n\u001B[32m   1109\u001B[39m \u001B[43m                \u001B[49m\u001B[33;43m\"\u001B[39;49m\u001B[33;43mseed\u001B[39;49m\u001B[33;43m\"\u001B[39;49m\u001B[43m:\u001B[49m\u001B[43m \u001B[49m\u001B[43mseed\u001B[49m\u001B[43m,\u001B[49m\n\u001B[32m   1110\u001B[39m \u001B[43m                \u001B[49m\u001B[33;43m\"\u001B[39;49m\u001B[33;43mservice_tier\u001B[39;49m\u001B[33;43m\"\u001B[39;49m\u001B[43m:\u001B[49m\u001B[43m \u001B[49m\u001B[43mservice_tier\u001B[49m\u001B[43m,\u001B[49m\n\u001B[32m   1111\u001B[39m \u001B[43m                \u001B[49m\u001B[33;43m\"\u001B[39;49m\u001B[33;43mstop\u001B[39;49m\u001B[33;43m\"\u001B[39;49m\u001B[43m:\u001B[49m\u001B[43m \u001B[49m\u001B[43mstop\u001B[49m\u001B[43m,\u001B[49m\n\u001B[32m   1112\u001B[39m \u001B[43m                \u001B[49m\u001B[33;43m\"\u001B[39;49m\u001B[33;43mstore\u001B[39;49m\u001B[33;43m\"\u001B[39;49m\u001B[43m:\u001B[49m\u001B[43m \u001B[49m\u001B[43mstore\u001B[49m\u001B[43m,\u001B[49m\n\u001B[32m   1113\u001B[39m \u001B[43m                \u001B[49m\u001B[33;43m\"\u001B[39;49m\u001B[33;43mstream\u001B[39;49m\u001B[33;43m\"\u001B[39;49m\u001B[43m:\u001B[49m\u001B[43m \u001B[49m\u001B[43mstream\u001B[49m\u001B[43m,\u001B[49m\n\u001B[32m   1114\u001B[39m \u001B[43m                \u001B[49m\u001B[33;43m\"\u001B[39;49m\u001B[33;43mstream_options\u001B[39;49m\u001B[33;43m\"\u001B[39;49m\u001B[43m:\u001B[49m\u001B[43m \u001B[49m\u001B[43mstream_options\u001B[49m\u001B[43m,\u001B[49m\n\u001B[32m   1115\u001B[39m \u001B[43m                \u001B[49m\u001B[33;43m\"\u001B[39;49m\u001B[33;43mtemperature\u001B[39;49m\u001B[33;43m\"\u001B[39;49m\u001B[43m:\u001B[49m\u001B[43m \u001B[49m\u001B[43mtemperature\u001B[49m\u001B[43m,\u001B[49m\n\u001B[32m   1116\u001B[39m \u001B[43m                \u001B[49m\u001B[33;43m\"\u001B[39;49m\u001B[33;43mtool_choice\u001B[39;49m\u001B[33;43m\"\u001B[39;49m\u001B[43m:\u001B[49m\u001B[43m \u001B[49m\u001B[43mtool_choice\u001B[49m\u001B[43m,\u001B[49m\n\u001B[32m   1117\u001B[39m \u001B[43m                \u001B[49m\u001B[33;43m\"\u001B[39;49m\u001B[33;43mtools\u001B[39;49m\u001B[33;43m\"\u001B[39;49m\u001B[43m:\u001B[49m\u001B[43m \u001B[49m\u001B[43mtools\u001B[49m\u001B[43m,\u001B[49m\n\u001B[32m   1118\u001B[39m \u001B[43m                \u001B[49m\u001B[33;43m\"\u001B[39;49m\u001B[33;43mtop_logprobs\u001B[39;49m\u001B[33;43m\"\u001B[39;49m\u001B[43m:\u001B[49m\u001B[43m \u001B[49m\u001B[43mtop_logprobs\u001B[49m\u001B[43m,\u001B[49m\n\u001B[32m   1119\u001B[39m \u001B[43m                \u001B[49m\u001B[33;43m\"\u001B[39;49m\u001B[33;43mtop_p\u001B[39;49m\u001B[33;43m\"\u001B[39;49m\u001B[43m:\u001B[49m\u001B[43m \u001B[49m\u001B[43mtop_p\u001B[49m\u001B[43m,\u001B[49m\n\u001B[32m   1120\u001B[39m \u001B[43m                \u001B[49m\u001B[33;43m\"\u001B[39;49m\u001B[33;43muser\u001B[39;49m\u001B[33;43m\"\u001B[39;49m\u001B[43m:\u001B[49m\u001B[43m \u001B[49m\u001B[43muser\u001B[49m\u001B[43m,\u001B[49m\n\u001B[32m   1121\u001B[39m \u001B[43m                \u001B[49m\u001B[33;43m\"\u001B[39;49m\u001B[33;43mweb_search_options\u001B[39;49m\u001B[33;43m\"\u001B[39;49m\u001B[43m:\u001B[49m\u001B[43m \u001B[49m\u001B[43mweb_search_options\u001B[49m\u001B[43m,\u001B[49m\n\u001B[32m   1122\u001B[39m \u001B[43m            \u001B[49m\u001B[43m}\u001B[49m\u001B[43m,\u001B[49m\n\u001B[32m   1123\u001B[39m \u001B[43m            \u001B[49m\u001B[43mcompletion_create_params\u001B[49m\u001B[43m.\u001B[49m\u001B[43mCompletionCreateParamsStreaming\u001B[49m\n\u001B[32m   1124\u001B[39m \u001B[43m            \u001B[49m\u001B[38;5;28;43;01mif\u001B[39;49;00m\u001B[43m \u001B[49m\u001B[43mstream\u001B[49m\n\u001B[32m   1125\u001B[39m \u001B[43m            \u001B[49m\u001B[38;5;28;43;01melse\u001B[39;49;00m\u001B[43m \u001B[49m\u001B[43mcompletion_create_params\u001B[49m\u001B[43m.\u001B[49m\u001B[43mCompletionCreateParamsNonStreaming\u001B[49m\u001B[43m,\u001B[49m\n\u001B[32m   1126\u001B[39m \u001B[43m        \u001B[49m\u001B[43m)\u001B[49m\u001B[43m,\u001B[49m\n\u001B[32m   1127\u001B[39m \u001B[43m        \u001B[49m\u001B[43moptions\u001B[49m\u001B[43m=\u001B[49m\u001B[43mmake_request_options\u001B[49m\u001B[43m(\u001B[49m\n\u001B[32m   1128\u001B[39m \u001B[43m            \u001B[49m\u001B[43mextra_headers\u001B[49m\u001B[43m=\u001B[49m\u001B[43mextra_headers\u001B[49m\u001B[43m,\u001B[49m\u001B[43m \u001B[49m\u001B[43mextra_query\u001B[49m\u001B[43m=\u001B[49m\u001B[43mextra_query\u001B[49m\u001B[43m,\u001B[49m\u001B[43m \u001B[49m\u001B[43mextra_body\u001B[49m\u001B[43m=\u001B[49m\u001B[43mextra_body\u001B[49m\u001B[43m,\u001B[49m\u001B[43m \u001B[49m\u001B[43mtimeout\u001B[49m\u001B[43m=\u001B[49m\u001B[43mtimeout\u001B[49m\n\u001B[32m   1129\u001B[39m \u001B[43m        \u001B[49m\u001B[43m)\u001B[49m\u001B[43m,\u001B[49m\n\u001B[32m   1130\u001B[39m \u001B[43m        \u001B[49m\u001B[43mcast_to\u001B[49m\u001B[43m=\u001B[49m\u001B[43mChatCompletion\u001B[49m\u001B[43m,\u001B[49m\n\u001B[32m   1131\u001B[39m \u001B[43m        \u001B[49m\u001B[43mstream\u001B[49m\u001B[43m=\u001B[49m\u001B[43mstream\u001B[49m\u001B[43m \u001B[49m\u001B[38;5;129;43;01mor\u001B[39;49;00m\u001B[43m \u001B[49m\u001B[38;5;28;43;01mFalse\u001B[39;49;00m\u001B[43m,\u001B[49m\n\u001B[32m   1132\u001B[39m \u001B[43m        \u001B[49m\u001B[43mstream_cls\u001B[49m\u001B[43m=\u001B[49m\u001B[43mStream\u001B[49m\u001B[43m[\u001B[49m\u001B[43mChatCompletionChunk\u001B[49m\u001B[43m]\u001B[49m\u001B[43m,\u001B[49m\n\u001B[32m   1133\u001B[39m \u001B[43m    \u001B[49m\u001B[43m)\u001B[49m\n",
      "\u001B[36mFile \u001B[39m\u001B[32m~\\anaconda3\\envs\\llms\\Lib\\site-packages\\openai\\_base_client.py:1256\u001B[39m, in \u001B[36mSyncAPIClient.post\u001B[39m\u001B[34m(self, path, cast_to, body, options, files, stream, stream_cls)\u001B[39m\n\u001B[32m   1242\u001B[39m \u001B[38;5;28;01mdef\u001B[39;00m\u001B[38;5;250m \u001B[39m\u001B[34mpost\u001B[39m(\n\u001B[32m   1243\u001B[39m     \u001B[38;5;28mself\u001B[39m,\n\u001B[32m   1244\u001B[39m     path: \u001B[38;5;28mstr\u001B[39m,\n\u001B[32m   (...)\u001B[39m\u001B[32m   1251\u001B[39m     stream_cls: \u001B[38;5;28mtype\u001B[39m[_StreamT] | \u001B[38;5;28;01mNone\u001B[39;00m = \u001B[38;5;28;01mNone\u001B[39;00m,\n\u001B[32m   1252\u001B[39m ) -> ResponseT | _StreamT:\n\u001B[32m   1253\u001B[39m     opts = FinalRequestOptions.construct(\n\u001B[32m   1254\u001B[39m         method=\u001B[33m\"\u001B[39m\u001B[33mpost\u001B[39m\u001B[33m\"\u001B[39m, url=path, json_data=body, files=to_httpx_files(files), **options\n\u001B[32m   1255\u001B[39m     )\n\u001B[32m-> \u001B[39m\u001B[32m1256\u001B[39m     \u001B[38;5;28;01mreturn\u001B[39;00m cast(ResponseT, \u001B[38;5;28;43mself\u001B[39;49m\u001B[43m.\u001B[49m\u001B[43mrequest\u001B[49m\u001B[43m(\u001B[49m\u001B[43mcast_to\u001B[49m\u001B[43m,\u001B[49m\u001B[43m \u001B[49m\u001B[43mopts\u001B[49m\u001B[43m,\u001B[49m\u001B[43m \u001B[49m\u001B[43mstream\u001B[49m\u001B[43m=\u001B[49m\u001B[43mstream\u001B[49m\u001B[43m,\u001B[49m\u001B[43m \u001B[49m\u001B[43mstream_cls\u001B[49m\u001B[43m=\u001B[49m\u001B[43mstream_cls\u001B[49m\u001B[43m)\u001B[49m)\n",
      "\u001B[36mFile \u001B[39m\u001B[32m~\\anaconda3\\envs\\llms\\Lib\\site-packages\\openai\\_base_client.py:1044\u001B[39m, in \u001B[36mSyncAPIClient.request\u001B[39m\u001B[34m(self, cast_to, options, stream, stream_cls)\u001B[39m\n\u001B[32m   1041\u001B[39m             err.response.read()\n\u001B[32m   1043\u001B[39m         log.debug(\u001B[33m\"\u001B[39m\u001B[33mRe-raising status error\u001B[39m\u001B[33m\"\u001B[39m)\n\u001B[32m-> \u001B[39m\u001B[32m1044\u001B[39m         \u001B[38;5;28;01mraise\u001B[39;00m \u001B[38;5;28mself\u001B[39m._make_status_error_from_response(err.response) \u001B[38;5;28;01mfrom\u001B[39;00m\u001B[38;5;250m \u001B[39m\u001B[38;5;28;01mNone\u001B[39;00m\n\u001B[32m   1046\u001B[39m     \u001B[38;5;28;01mbreak\u001B[39;00m\n\u001B[32m   1048\u001B[39m \u001B[38;5;28;01massert\u001B[39;00m response \u001B[38;5;129;01mis\u001B[39;00m \u001B[38;5;129;01mnot\u001B[39;00m \u001B[38;5;28;01mNone\u001B[39;00m, \u001B[33m\"\u001B[39m\u001B[33mcould not resolve response (should never happen)\u001B[39m\u001B[33m\"\u001B[39m\n",
      "\u001B[31mAuthenticationError\u001B[39m: Error code: 401 - {'error': {'message': 'Incorrect API key provided: sk-proj-********************************************************************************************************************************************************dc8A. You can find your API key at https://platform.openai.com/account/api-keys.', 'type': 'invalid_request_error', 'param': None, 'code': 'invalid_api_key'}}"
     ]
    }
   ],
   "execution_count": 24
  },
  {
   "cell_type": "code",
   "id": "3d926d59-450e-4609-92ba-2d6f244f1342",
   "metadata": {
    "ExecuteTime": {
     "end_time": "2025-07-16T22:14:28.896526Z",
     "start_time": "2025-07-16T22:14:28.891688Z"
    }
   },
   "source": [
    "# Una función para mostrar esto de forma clara en la salida de Jupyter, usando markdown\n",
    "\n",
    "def display_summary(url):\n",
    "    summary = summarize(url)\n",
    "    display(Markdown(summary))"
   ],
   "outputs": [],
   "execution_count": 30
  },
  {
   "cell_type": "code",
   "id": "3018853a-445f-41ff-9560-d925d1774b2f",
   "metadata": {
    "ExecuteTime": {
     "end_time": "2025-07-16T22:14:45.713279Z",
     "start_time": "2025-07-16T22:14:34.462427Z"
    }
   },
   "source": [
    "display_summary(\"https://cursos.frogamesformacion.com\")"
   ],
   "outputs": [
    {
     "data": {
      "text/plain": [
       "<IPython.core.display.Markdown object>"
      ],
      "text/markdown": "# Resumen de Frogames\n\n**Frogames** es una plataforma educativa en línea que ha sido reconocida como la más innovadora en enseñanza online de datos y competencias digitales en Europa 2023. Su misión es permitir a los usuarios convertirse en expertos en diversas áreas, incluyendo programación de videojuegos, inteligencia artificial, machine learning, desarrollo de aplicaciones y ciencia de datos.\n\n## Características Principales\n\n- **Cursos en Línea:** Ofrecen cursos en una variedad de temáticas, organizados en rutas de aprendizaje estructuradas y actualizadas periódicamente.\n- **Instructores Expertos:** Los cursos son impartidos por profesionales con experiencia que brindan apoyo continuo al estudiante.\n- **Certificados Verificados:** Al concluir un curso, los estudiantes obtienen certificados respaldados por tecnología blockchain, los cuales pueden compartirse en redes sociales.\n- **Actualizaciones Constantes:** Nuevos cursos y contenido actualizado se añaden regularmente a la plataforma.\n\n## Cursos Destacados\n\n- **Curso Completo de Ingeniería de Agentes de IA (2025)**\n- **Domina Android desde cero con Kotlin, Compose y Gemini AI**\n- **Fundamentos Avanzados de Matemáticas para Machine Learning**\n- **Curso Completo de Unreal Engine 5**\n- **Machine Learning de la A a la Z**\n\n## Comunidad y Testimonios\n\nFrogames cuenta con una amplia comunidad de más de 500,000 estudiantes satisfechos. Los testimonios destacan la calidad de los cursos, el apoyo de los instructores y la diversidad de temas disponibles. Muchos estudiantes expresan cómo la plataforma ha impactado positivamente en su educación y desarrollo profesional.\n\n## Formación para Empresas\n\nFrogames también ofrece programas de formación específicos para empresas, facilitando la capacitación de empleados en diversas áreas técnicas y de gestión.\n\n## Oportunidad de Curso Gratuito\n\nPara nuevos usuarios, Frogames proporciona un curso gratuito sobre trading algorítmico con Python, permitiendo una introducción a la plataforma y sus recursos.\n\n## Conclusión\n\nFrogames es una opción destacada para quienes buscan aprender nuevas habilidades en un entorno interactivo y apoyado por expertos, haciendo énfasis en la diversión y la efectividad del aprendizaje."
     },
     "metadata": {},
     "output_type": "display_data"
    }
   ],
   "execution_count": 31
  },
  {
   "cell_type": "markdown",
   "id": "b3bcf6f4-adce-45e9-97ad-d9a5d7a3a624",
   "metadata": {},
   "source": [
    "# Probemos con más sitios web\n",
    "\n",
    "Ten en cuenta que esto solo funcionará en sitios web que se puedan extraer con este enfoque simplista.\n",
    "\n",
    "Los sitios web que se renderizan con Javascript, como las aplicaciones React, no se mostrarán. Consulta la carpeta de contribuciones de la comunidad para obtener una implementación de Selenium que solucione este problema. Deberás leer sobre la instalación de Selenium (¡pregunta a ChatGPT!).\n",
    "\n",
    "Además, los sitios web protegidos con CloudFront (y similares) pueden generar errores 403. Muchas gracias, Andy J, por señalar esto.\n",
    "\n",
    "¡Pero muchos sitios web funcionarán perfectamente!"
   ]
  },
  {
   "cell_type": "code",
   "id": "45d83403-a24c-44b5-84ac-961449b4008f",
   "metadata": {
    "ExecuteTime": {
     "end_time": "2025-07-16T22:15:12.921200Z",
     "start_time": "2025-07-16T22:14:56.509310Z"
    }
   },
   "source": [
    "display_summary(\"https://cnn.com\")"
   ],
   "outputs": [
    {
     "data": {
      "text/plain": [
       "<IPython.core.display.Markdown object>"
      ],
      "text/markdown": "# Resumen del Sitio Web de CNN\n\nCNN es una plataforma de noticias que ofrece cobertura sobre una variedad de temas de actualidad, incluyendo política, negocios, salud, entretenimiento, deportes y más. Además de noticias escritas, incluye contenido multimedia como videos y transmisiones en vivo.\n\n## Principales Secciones:\n- **Noticias de EE.UU. y del Mundo:** Informes sobre eventos actuales en los Estados Unidos y en otras partes del mundo.\n- **Análisis Político:** Comentarios y análisis sobre la política contemporánea, incluyendo la administración Trump y encuestas de opinión.\n- **Entretenimiento:** Información sobre celebridades, programas de televisión y cine, incluyendo las últimas en premios y eventos culturales.\n- **Ciencia y Tecnología:** Noticias sobre avances científicos, tecnología y medio ambiente, incluyendo estudios sobre el cambio climático y exploraciones espaciales.\n- **Salud:** Artículos sobre bienestar, hábitos saludables y hallazgos médicos recientes.\n\n## Temas Destacados:\n- **Conflictos Internacionales:** Actualizaciones sobre la guerra entre Ucrania y Rusia, así como el conflicto entre Israel y Hamas.\n- **Investigaciones Criminales**: Reportajes sobre casos de crimen notable y justicia.\n- **Eventos Culturales:** Cobertura sobre premios y lanzamientos en el ámbito del entretenimiento.\n  \n## Contenido Adicional:\n- **CNN Underscored:** Una sección dedicada a recomendaciones de productos y análisis de tendencias de estilo de vida.\n- **Juegos y Cuestionarios:** Actividades interactivas como crucigramas y cuestionarios relacionados con las noticias.\n\nCNN se enfoca en proporcionar un análisis profundo y cobertura amplia de eventos actuales, buscando estar a la vanguardia en la entrega de noticias relevantes para su audiencia."
     },
     "metadata": {},
     "output_type": "display_data"
    }
   ],
   "execution_count": 32
  },
  {
   "cell_type": "code",
   "execution_count": 16,
   "id": "75e9fd40-b354-4341-991e-863ef2e59db7",
   "metadata": {},
   "outputs": [
    {
     "data": {
      "text/markdown": [
       "# Resumen del sitio web de Anthropic\n",
       "\n",
       "Anthropic es una empresa de investigación y seguridad en inteligencia artificial ubicada en San Francisco. Su misión es desarrollar modelos de IA que prioricen la seguridad y la confiabilidad. A continuación se resaltan los puntos clave del contenido del sitio:\n",
       "\n",
       "## Modelos de IA\n",
       "- **Claude 3.5 Sonnet**: El modelo de IA más avanzado de Anthropic, recientemente lanzado.\n",
       "- **Claude 3.5 Haiku**: Otra versión actualizada de su modelo Claude.\n",
       "\n",
       "## Productos y Servicios\n",
       "- **Claude para Empresas**: Soluciones diseñadas para mejorar la eficiencia y crear nuevas oportunidades de ingresos utilizando tecnología AI.\n",
       "- **API de Claude**: Permite a los desarrolladores integrar y utilizar las capacidades de Claude en sus aplicaciones.\n",
       "\n",
       "## Investigación\n",
       "- Publicaciones sobre la seguridad de la IA y enfoques como la **IA Constitucional** que busca garantizar la inofensividad mediante retroalimentación de AI.\n",
       "\n",
       "## Anuncios Recientes\n",
       "- Introducción de nuevos modelos, incluyendo el uso de computadoras, así como actualizaciones relevantes en los modelos de Claude, el 22 de octubre de 2024.\n",
       "\n",
       "## Oportunidades Laborales\n",
       "- Anthropic promueve la búsqueda de talento y ofrece roles en diversas disciplinas, desde aprendizaje automático hasta política.\n",
       "\n",
       "Esta información destaca el compromiso de Anthropic con el desarrollo de inteligencia artificial segura y beneficiosa, además de su enfoque en la investigación y mejoras continuas de sus modelos AI."
      ],
      "text/plain": [
       "<IPython.core.display.Markdown object>"
      ]
     },
     "metadata": {},
     "output_type": "display_data"
    }
   ],
   "source": [
    "display_summary(\"https://anthropic.com\")"
   ]
  },
  {
   "cell_type": "markdown",
   "id": "c951be1a-7f1b-448f-af1f-845978e47e2c",
   "metadata": {},
   "source": [
    "## Aplicaciones empresariales\n",
    "\n",
    "En este ejercicio, experimentó la llamada a la API de un modelo de frontera (un modelo líder en la frontera de la IA) por primera vez. Esto se aplica ampliamente en todos los casos de uso de Gen AI y usaremos API como OpenAI en muchas etapas del curso, además de crear nuestros propios LLM.\n",
    "\n",
    "Más específicamente, hemos aplicado esto a Resumen: un caso de uso clásico de Gen AI para hacer un resumen. Esto se puede aplicar a cualquier vertical empresarial: resumir las noticias, resumir el desempeño financiero, resumir un currículum en una carta de presentación; las aplicaciones son ilimitadas. Considere cómo podría aplicar Resumen en su negocio e intente crear un prototipo de solución."
   ]
  },
  {
   "cell_type": "markdown",
   "id": "36ed9f14-b349-40e9-a42c-b367e77f8bda",
   "metadata": {},
   "source": [
    "## Un ejercicio extra para quienes disfrutan del web scraping\n",
    "\n",
    "Puedes notar que si intentas `display_summary(\"https://openai.com\")` - ¡no funciona! Esto se debe a que OpenAI tiene un sitio web sofisticado que usa Javascript. Hay muchas formas de evitar esto con las que algunos de ustedes pueden estar familiarizados. Por ejemplo, Selenium es un marco muy popular que ejecuta un navegador detrás de escena, renderiza la página y te permite consultarla. Si tienes experiencia con Selenium, Playwright o similar, no dudes en mejorar la clase Website para usarlos. En la carpeta de contribuciones de la comunidad, encontrarás una solución de Selenium de ejemplo de un estudiante (¡gracias!)"
   ]
  },
  {
   "cell_type": "markdown",
   "id": "eeab24dc-5f90-4570-b542-b0585aca3eb6",
   "metadata": {},
   "source": [
    "# Compartir tu código\n",
    "\n",
    "¡Me encantaría que compartieras tu código después para que yo pueda compartirlo con otros! Notarás que algunos estudiantes ya han realizado cambios (incluida una implementación de Selenium) que encontrarás en la carpeta community-contributions. Si deseas agregar tus cambios a esa carpeta, envía una solicitud de incorporación de cambios con tus nuevas versiones en esa carpeta y yo fusionaré tus cambios.\n",
    "\n",
    "Si no eres un experto en Git (¡y yo no lo soy!), entonces GPT ha dado algunas instrucciones útiles sobre cómo enviar una solicitud de incorporación de cambios. Es un proceso un poco complicado, pero una vez que lo hayas hecho una vez, estará bastante claro. Como consejo profesional: es mejor si borras las salidas de tus cuadernos Jupyter (Editar >> Limpiar las salidas de todas las celdas y luego Guardar) para tener cuadernos limpios.\n",
    "\n",
    "Instrucciones de relaciones públicas cortesía de un amigo de IA: https://chatgpt.com/share/670145d5-e8a8-8012-8f93-39ee4e248b4c"
   ]
  },
  {
   "cell_type": "code",
   "execution_count": null,
   "id": "682eff74-55c4-4d4b-b267-703edbc293c7",
   "metadata": {},
   "outputs": [],
   "source": []
  }
 ],
 "metadata": {
  "kernelspec": {
   "display_name": "Python [conda env:llms]",
   "language": "python",
   "name": "conda-env-llms-py"
  },
  "language_info": {
   "codemirror_mode": {
    "name": "ipython",
    "version": 3
   },
   "file_extension": ".py",
   "mimetype": "text/x-python",
   "name": "python",
   "nbconvert_exporter": "python",
   "pygments_lexer": "ipython3",
   "version": "3.11.13"
  }
 },
 "nbformat": 4,
 "nbformat_minor": 5
}
